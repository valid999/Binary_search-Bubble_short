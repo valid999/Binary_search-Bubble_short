{
 "cells": [
  {
   "cell_type": "code",
   "execution_count": 4,
   "metadata": {},
   "outputs": [],
   "source": [
    "import time \n",
    "def time_it(func): \n",
    "    def wrapper(*args, **kwargs): \n",
    "        start = time.time()\n",
    "        result = func(*args, **kwargs)\n",
    "        end = time.time()\n",
    "        print(func.__name__ + \" took \" + str((end-start) * 1000) + \"mil sec\") \n",
    "        return result \n",
    "    return wrapper "
   ]
  },
  {
   "cell_type": "code",
   "execution_count": 12,
   "metadata": {},
   "outputs": [
    {
     "name": "stdout",
     "output_type": "stream",
     "text": [
      "binary_search took 0.0mil sec\n",
      "binary_search_recursive took 0.0mil sec\n",
      "Number found at index -1 using binary search\n"
     ]
    }
   ],
   "source": [
    "@time_it\n",
    "def linear_search(number_list, number_to_find): \n",
    "    for index , element in enumerate(number_list):\n",
    "        if element == number_to_find:\n",
    "            return index\n",
    "    return -1 \n",
    "\n",
    "@time_it \n",
    "def binary_search(number_list, number_to_find): \n",
    "    left_index = 0 \n",
    "    right_index  = len(number_list) - 1 \n",
    "    mid_index = 0 \n",
    "    \n",
    "    while left_index <= right_index: \n",
    "        mid_index = (left_index + right_index) // 2 \n",
    "        mid_number  = number_list[mid_index]\n",
    "        \n",
    "        if mid_number == number_to_find: \n",
    "            return mid_index \n",
    "        \n",
    "        if mid_number < number_to_find: \n",
    "            left_index = mid_index + 1 \n",
    "        else:\n",
    "            right_index = mid_index  - 1 \n",
    "    \n",
    "    return -1 \n",
    "\n",
    "@time_it\n",
    "def binary_search_recursive(number_list, number_to_find, left_index, right_index): \n",
    "    if right_index < left_index: \n",
    "        return -1 \n",
    "    \n",
    "    mid_index  = (left_index + right_index) // 2 \n",
    "    if mid_index >= len(number_list) or mid_index < 0: \n",
    "        return -1 \n",
    "    \n",
    "    mid_number = number_list[mid_index]\n",
    "    \n",
    "    if mid_number  == number_to_find: \n",
    "        return mid_index  # We are looping until we get this value infront of us  \n",
    "    \n",
    "    if mid_number < number_to_find: \n",
    "        left_index = mid_index + 1 \n",
    "    \n",
    "    else: \n",
    "        right_index = mid_index - 1 \n",
    "    \n",
    "    return binary_search(number_list, number_to_find)\n",
    "\n",
    "if __name__ == '__main__': \n",
    "    number_list = [1,4,6,9,10,5,7]\n",
    "    number_to_find = 5 \n",
    "    \n",
    "    index = binary_search_recursive(number_list, number_to_find, 0, len(number_list))\n",
    "    print(f\"Number found at index {index} using binary search\")"
   ]
  },
  {
   "cell_type": "code",
   "execution_count": null,
   "metadata": {},
   "outputs": [],
   "source": []
  }
 ],
 "metadata": {
  "kernelspec": {
   "display_name": "base",
   "language": "python",
   "name": "python3"
  },
  "language_info": {
   "codemirror_mode": {
    "name": "ipython",
    "version": 3
   },
   "file_extension": ".py",
   "mimetype": "text/x-python",
   "name": "python",
   "nbconvert_exporter": "python",
   "pygments_lexer": "ipython3",
   "version": "3.11.5"
  }
 },
 "nbformat": 4,
 "nbformat_minor": 2
}
