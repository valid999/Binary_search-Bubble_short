{
 "cells": [
  {
   "cell_type": "code",
   "execution_count": 2,
   "metadata": {},
   "outputs": [
    {
     "name": "stdout",
     "output_type": "stream",
     "text": [
      "Building tree with these elements: ['India', 'Pakistan', 'Germany', 'USA', 'China', 'India', 'UK', 'USA']\n",
      "UK is in the list? None\n",
      "Sweden is in the list? None\n",
      "Building tree with these elements: [17, 4, 1, 20, 9, 23, 18, 24]\n",
      "In order traversal gives this sorted list: [1, 4, 9, 17, 18, 20, 23, 24]\n"
     ]
    }
   ],
   "source": [
    "# Bianry Tree \n",
    "class BinarySearchTreeNode: \n",
    "    def __init__(self, data):\n",
    "        self.data  = data \n",
    "        self.left = None \n",
    "        self.right  = None \n",
    "    \n",
    "    def add_child(self, data): \n",
    "        if data == self.data: \n",
    "            return # node already exist \n",
    "\n",
    "        if data < self.data: \n",
    "            # Add data in left subtree \n",
    "            if self.left: \n",
    "                self.left.add_child(data)\n",
    "\n",
    "            else: \n",
    "                self.left = BinarySearchTreeNode(data)\n",
    "\n",
    "        else: # if data > self.data\n",
    "            # Add data to the right subtree\n",
    "            if self.right: \n",
    "                self.right.add_child(data)\n",
    "\n",
    "            else: \n",
    "                self.right = BinarySearchTreeNode(data)\n",
    "\n",
    "    def search(self, val):\n",
    "        if self.data == val: \n",
    "            return True \n",
    "        \n",
    "        if val < self.data: \n",
    "            if self.left: \n",
    "                return self.left.search(val)\n",
    "            else: \n",
    "                return False \n",
    "\n",
    "    def in_order_traversal(self): \n",
    "        elements = []\n",
    "        if self.left: \n",
    "            elements += self.left.in_order_traversal()\n",
    "        \n",
    "        elements.append(self.data)\n",
    "        \n",
    "        if self.right: \n",
    "            elements += self.right.in_order_traversal()\n",
    "            \n",
    "        return elements\n",
    "\n",
    "\n",
    "def build_tree(elements): \n",
    "    \n",
    "    print(\"Building tree with these elements:\", elements)\n",
    "    root = BinarySearchTreeNode(elements[0])\n",
    "    \n",
    "    \n",
    "    for i in range(1, len(elements)): \n",
    "        root.add_child(elements[i])\n",
    "    \n",
    "    return root\n",
    " \n",
    "\n",
    "if __name__ == '__main__': \n",
    "    countries = [\"India\", \"Pakistan\", \"Germany\", \"USA\", \"China\", \"India\", \"UK\", \"USA\"]\n",
    "    country_tree  = build_tree(countries)\n",
    "    \n",
    "    print(\"UK is in the list?\" , country_tree.search(\"UK\"))\n",
    "    print(\"Sweden is in the list?\", country_tree.search(\"Sweden\"))\n",
    "    \n",
    "    numbers_tree = build_tree([17, 4, 1, 20, 9, 23, 18, 24])\n",
    "    print(\"In order traversal gives this sorted list:\" , numbers_tree.in_order_traversal())"
   ]
  },
  {
   "cell_type": "code",
   "execution_count": null,
   "metadata": {},
   "outputs": [],
   "source": [
    "# Step by step explaixntion of the  Recursive Flow \n"
   ]
  }
 ],
 "metadata": {
  "kernelspec": {
   "display_name": "base",
   "language": "python",
   "name": "python3"
  },
  "language_info": {
   "codemirror_mode": {
    "name": "ipython",
    "version": 3
   },
   "file_extension": ".py",
   "mimetype": "text/x-python",
   "name": "python",
   "nbconvert_exporter": "python",
   "pygments_lexer": "ipython3",
   "version": "3.11.5"
  }
 },
 "nbformat": 4,
 "nbformat_minor": 2
}
