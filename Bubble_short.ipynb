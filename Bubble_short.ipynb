{
 "cells": [
  {
   "cell_type": "code",
   "execution_count": 3,
   "metadata": {},
   "outputs": [
    {
     "name": "stdout",
     "output_type": "stream",
     "text": [
      "['aamir', 'chang', 'dhaval', 'mona', 'tina']\n"
     ]
    }
   ],
   "source": [
    "# You can use this sort string too \n",
    "\n",
    "def bubble_sort(elements): \n",
    "    size = len(elements)\n",
    "    \n",
    "    for i in range(size - 1): \n",
    "        swapped  = False \n",
    "        for j in range(size-1-i): \n",
    "            if elements[j] > elements[j+1]: \n",
    "                tmp = elements[j]\n",
    "                elements[j] = elements[j+1]\n",
    "                elements[j+1] = tmp \n",
    "                swapped = True \n",
    "\n",
    "        if not swapped: \n",
    "            break \n",
    "\n",
    "if __name__ == \"__main__\": \n",
    "    elements = [5, 9, 2, 1, 67, 34, 88, 34]\n",
    "    elements = [1,2,3,4,2]\n",
    "    elements  = [\"mona\", \"dhaval\",\"aamir\",\"tina\",\"chang\"]\n",
    "\n",
    "\n",
    "bubble_sort(elements)\n",
    "print(elements)"
   ]
  }
 ],
 "metadata": {
  "kernelspec": {
   "display_name": "base",
   "language": "python",
   "name": "python3"
  },
  "language_info": {
   "codemirror_mode": {
    "name": "ipython",
    "version": 3
   },
   "file_extension": ".py",
   "mimetype": "text/x-python",
   "name": "python",
   "nbconvert_exporter": "python",
   "pygments_lexer": "ipython3",
   "version": "3.11.5"
  }
 },
 "nbformat": 4,
 "nbformat_minor": 2
}
