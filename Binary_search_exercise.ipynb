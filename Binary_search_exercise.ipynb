{
 "cells": [
  {
   "cell_type": "code",
   "execution_count": 8,
   "metadata": {},
   "outputs": [],
   "source": [
    "# Binary search exercise \n",
    "# 1. When I try to fixnd number 5 in below list using binary search, it doesn't work and return me -1 index. Why is that? \n",
    "\n",
    "numbers  = [1,4,6,9,10,5,7]\n",
    "\n",
    "# Answer it is because the list is not sorted Binary search requires that list has to be sorted"
   ]
  },
  {
   "cell_type": "code",
   "execution_count": 9,
   "metadata": {},
   "outputs": [
    {
     "name": "stdout",
     "output_type": "stream",
     "text": [
      "the value is 6\n",
      "Indices of occurances of 15 are [5, 6, 7]\n"
     ]
    }
   ],
   "source": [
    "# 2. Find the index of all the occurances of a number from sorted list \n",
    "\n",
    "numbers = [1,4,6,9,11,15,15,15,17,21,34,34,56]\n",
    "number_to_find = 15 \n",
    "\n",
    "\n",
    "def binary_search(numbers_list, number_to_find): \n",
    "    left_index = 0 \n",
    "    right_index  = len(numbers_list) - 1 \n",
    "    mid_index = 0 \n",
    "\n",
    "    while left_index <= right_index: \n",
    "        mid_index = (left_index + right_index) // 2 \n",
    "        mid_number  = numbers_list[mid_index]\n",
    "        \n",
    "        if mid_number  == number_to_find: \n",
    "            return mid_index \n",
    "        \n",
    "        if mid_number < number_to_find: \n",
    "            left_index  = mid_index + 1 \n",
    "        \n",
    "        else: \n",
    "            right_index  = mid_index - 1 \n",
    "    return -1 \n",
    "\n",
    "def find_all_occurances(numbers, number_to_find): \n",
    "    index  = binary_search(numbers, number_to_find) # Return the index '\"Leetcode 2\n",
    "    print(\"the value is\", index)\n",
    "    indices = [index]\n",
    "    \n",
    "    # Find indices on the left side \n",
    "    i = index-1 \n",
    "    while i >=0: \n",
    "        if numbers[i] == number_to_find: \n",
    "            indices.append(i)\n",
    "        else: \n",
    "            break \n",
    "        i = i - 1 # We need to decrease to get the minimum value to be less then 0.\n",
    "\n",
    "    # Find indices on right hand side \n",
    "    i  = index + 1\n",
    "    while i<len(numbers): \n",
    "        if numbers[i] == number_to_find: \n",
    "            indices.append(i)\n",
    "        else: \n",
    "            break \n",
    "        i = i + 1 # We need to increase til the end to reach the maximum value.\n",
    "    return sorted(indices)\n",
    "\n",
    "\n",
    "if __name__ == \"__main__\": \n",
    "        numbers = [1,4,6,9,11,15,15,15,17,21,34,34,56]\n",
    "        number_to_find = 15 \n",
    "        indices = find_all_occurances(numbers , number_to_find)\n",
    "        print(f\"Indices of occurances of {number_to_find} are {indices}\")"
   ]
  }
 ],
 "metadata": {
  "kernelspec": {
   "display_name": "base",
   "language": "python",
   "name": "python3"
  },
  "language_info": {
   "codemirror_mode": {
    "name": "ipython",
    "version": 3
   },
   "file_extension": ".py",
   "mimetype": "text/x-python",
   "name": "python",
   "nbconvert_exporter": "python",
   "pygments_lexer": "ipython3",
   "version": "3.11.5"
  }
 },
 "nbformat": 4,
 "nbformat_minor": 2
}
